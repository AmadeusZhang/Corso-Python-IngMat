{
 "cells": [
  {
   "cell_type": "markdown",
   "metadata": {},
   "source": [
    "# Backtracking"
   ]
  },
  {
   "cell_type": "markdown",
   "metadata": {},
   "source": [
    "Provare tutto. Costosi dal punto di vista computazionale, ma molto più efficiente dal punto di vista logico.\n",
    "\n",
    "Va bene per numero di dati non gigantesco (pensare ad una schacchiera 9x9)."
   ]
  },
  {
   "cell_type": "markdown",
   "metadata": {},
   "source": [
    "## Algoritmo Greedy\n",
    "\n"
   ]
  },
  {
   "cell_type": "markdown",
   "metadata": {},
   "source": [
    "### Esercizio: Il numero più grande\n",
    "\n",
    "* Data una lista di interi compresi tra 0 e 9 scrivere un programma che genera il numero più grande e il numero più piccolo tra quelli componibili con quelle cifre\n",
    "\n",
    "* Ad esempio con 4 1 3 0 9 6 8 9 6 4 restituirebbe 9986644310 e 1034466899"
   ]
  },
  {
   "cell_type": "code",
   "execution_count": null,
   "metadata": {},
   "outputs": [],
   "source": [
    "def main() :\n",
    "    dati = [ 4, 1, 3, 0, 9, 6, 8, 9, 6, 4 ]\n",
    "\n",
    "    for ii in len(dati) :\n",
    "        "
   ]
  }
 ],
 "metadata": {
  "interpreter": {
   "hash": "8985369433b457479af44846aeaf0989574d367e9948a967101e5b1febcdd454"
  },
  "kernelspec": {
   "display_name": "Python 3.9.7 ('base')",
   "language": "python",
   "name": "python3"
  },
  "language_info": {
   "codemirror_mode": {
    "name": "ipython",
    "version": 3
   },
   "file_extension": ".py",
   "mimetype": "text/x-python",
   "name": "python",
   "nbconvert_exporter": "python",
   "pygments_lexer": "ipython3",
   "version": "3.9.7"
  },
  "orig_nbformat": 4
 },
 "nbformat": 4,
 "nbformat_minor": 2
}
