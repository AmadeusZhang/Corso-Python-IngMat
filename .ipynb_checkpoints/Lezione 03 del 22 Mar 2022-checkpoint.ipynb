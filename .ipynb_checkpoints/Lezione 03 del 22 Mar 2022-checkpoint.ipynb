{
 "cells": [
  {
   "cell_type": "markdown",
   "id": "0e20c968",
   "metadata": {},
   "source": [
    "# Numpy"
   ]
  },
  {
   "cell_type": "markdown",
   "id": "47b3754b",
   "metadata": {},
   "source": [
    "Matlab è ispirato da MATLAB, e pertanto portato su un linguaggio di programmazione di alto-livello\n",
    "\n",
    "è in grado di elaborare dati del tipo vettori, matrici, tensori"
   ]
  },
  {
   "cell_type": "markdown",
   "id": "a351bf3a",
   "metadata": {},
   "source": [
    "## Array, proprietà di base :"
   ]
  },
  {
   "cell_type": "code",
   "execution_count": 3,
   "id": "9c443c9f",
   "metadata": {},
   "outputs": [],
   "source": [
    "import numpy as np\n",
    "a = np.array([[1,2,3],[4,5,6]], dtype = np.float32)"
   ]
  },
  {
   "cell_type": "code",
   "execution_count": 4,
   "id": "e752cd59",
   "metadata": {},
   "outputs": [
    {
     "name": "stdout",
     "output_type": "stream",
     "text": [
      "2\n"
     ]
    }
   ],
   "source": [
    "print(a.ndim)"
   ]
  },
  {
   "cell_type": "code",
   "execution_count": 5,
   "id": "d4739f45",
   "metadata": {},
   "outputs": [
    {
     "name": "stdout",
     "output_type": "stream",
     "text": [
      "(2, 3)\n"
     ]
    }
   ],
   "source": [
    "print(a.shape)"
   ]
  },
  {
   "cell_type": "code",
   "execution_count": 6,
   "id": "1684ee5d",
   "metadata": {},
   "outputs": [
    {
     "name": "stdout",
     "output_type": "stream",
     "text": [
      "float32\n"
     ]
    }
   ],
   "source": [
    "print(a.dtype)"
   ]
  },
  {
   "cell_type": "code",
   "execution_count": 7,
   "id": "66bf73a3",
   "metadata": {},
   "outputs": [
    {
     "name": "stdout",
     "output_type": "stream",
     "text": [
      "[[1. 2. 3.]\n",
      " [4. 5. 6.]]\n"
     ]
    }
   ],
   "source": [
    "print(a)"
   ]
  },
  {
   "cell_type": "markdown",
   "id": "aa0f938f",
   "metadata": {},
   "source": [
    "## Array, creazione"
   ]
  },
  {
   "cell_type": "code",
   "execution_count": 13,
   "id": "6f21c415",
   "metadata": {},
   "outputs": [
    {
     "name": "stdout",
     "output_type": "stream",
     "text": [
      "[[1. 1. 1.]\n",
      " [1. 1. 1.]]\n"
     ]
    }
   ],
   "source": [
    "A = np.ones((2,3))\n",
    "print(A)"
   ]
  },
  {
   "cell_type": "code",
   "execution_count": 14,
   "id": "407d92c3",
   "metadata": {},
   "outputs": [
    {
     "name": "stdout",
     "output_type": "stream",
     "text": [
      "[[0. 0. 0.]\n",
      " [0. 0. 0.]\n",
      " [0. 0. 0.]\n",
      " [0. 0. 0.]]\n"
     ]
    }
   ],
   "source": [
    "B = np.zeros((4,3))\n",
    "print(B)"
   ]
  },
  {
   "cell_type": "code",
   "execution_count": 10,
   "id": "64abaf9d",
   "metadata": {},
   "outputs": [
    {
     "data": {
      "text/plain": [
       "array([1334, 1335, 1336, 1337])"
      ]
     },
     "execution_count": 10,
     "metadata": {},
     "output_type": "execute_result"
    }
   ],
   "source": [
    "np.arange(1334,1338)"
   ]
  },
  {
   "cell_type": "markdown",
   "id": "0a77c1d0",
   "metadata": {},
   "source": [
    "Si osserva che arrange() è simile a range(), infatti durante la creazione di una libreria tendenzialmente si rimane su stile già definito del linguaggio"
   ]
  },
  {
   "cell_type": "code",
   "execution_count": 15,
   "id": "4d73ff6a",
   "metadata": {
    "scrolled": true
   },
   "outputs": [
    {
     "data": {
      "text/plain": [
       "array([[1., 1., 1.],\n",
       "       [1., 1., 1.],\n",
       "       [0., 0., 0.],\n",
       "       [0., 0., 0.],\n",
       "       [0., 0., 0.],\n",
       "       [0., 0., 0.]])"
      ]
     },
     "execution_count": 15,
     "metadata": {},
     "output_type": "execute_result"
    }
   ],
   "source": [
    "np.concatenate([A,B])"
   ]
  },
  {
   "cell_type": "markdown",
   "id": "eb8bcfa9",
   "metadata": {},
   "source": [
    "Volendo concatenare in orizzontale: axis=1"
   ]
  },
  {
   "cell_type": "code",
   "execution_count": 17,
   "id": "3155f55f",
   "metadata": {
    "scrolled": true
   },
   "outputs": [
    {
     "data": {
      "text/plain": [
       "<function RandomState.random>"
      ]
     },
     "execution_count": 17,
     "metadata": {},
     "output_type": "execute_result"
    }
   ],
   "source": [
    "np.zeros_like #?"
   ]
  },
  {
   "cell_type": "code",
   "execution_count": 20,
   "id": "477650ce",
   "metadata": {
    "scrolled": true
   },
   "outputs": [
    {
     "data": {
      "text/plain": [
       "array([[0.72509903, 0.38030149, 0.7693153 ],\n",
       "       [0.26994131, 0.46034388, 0.20580959],\n",
       "       [0.18156345, 0.60460824, 0.72655316],\n",
       "       [0.5529971 , 0.06373126, 0.59663109],\n",
       "       [0.5336355 , 0.05221487, 0.03061499],\n",
       "       [0.33382303, 0.49656874, 0.47636124],\n",
       "       [0.45322447, 0.59714313, 0.5340415 ],\n",
       "       [0.41486552, 0.12939843, 0.39125935],\n",
       "       [0.46962741, 0.37033243, 0.19117713],\n",
       "       [0.14505658, 0.75932368, 0.98560563]])"
      ]
     },
     "execution_count": 20,
     "metadata": {},
     "output_type": "execute_result"
    }
   ],
   "source": [
    "np.random.random((10,3)) # genera numeri casuali tra 0 e 1"
   ]
  },
  {
   "cell_type": "markdown",
   "id": "c15995f6",
   "metadata": {},
   "source": [
    "## Linear Algebra"
   ]
  },
  {
   "cell_type": "code",
   "execution_count": 21,
   "id": "05a62b42",
   "metadata": {
    "scrolled": true
   },
   "outputs": [
    {
     "name": "stdout",
     "output_type": "stream",
     "text": [
      "-2.0000000000000004\n"
     ]
    }
   ],
   "source": [
    "a = np.array([[1,2],[3,4]])\n",
    "D = np.linalg.det(a)\n",
    "print(D)"
   ]
  },
  {
   "cell_type": "markdown",
   "id": "25de0a38",
   "metadata": {},
   "source": [
    "Provare ad immaginare (esercitare) di calcolare senza utilizzare libreria :)\n",
    "\n",
    "Il lavoro di sicuro è semplice, ma minimo richiede mezz'ora di tempo, mentre con Numpy è una riga di codice!"
   ]
  },
  {
   "cell_type": "markdown",
   "id": "e9ccccbb",
   "metadata": {},
   "source": [
    "## Return Values"
   ]
  },
  {
   "cell_type": "markdown",
   "id": "28a9c96c",
   "metadata": {},
   "source": [
    "Le funzioni Numpy restituiscono o **viste** o **copie**"
   ]
  },
  {
   "cell_type": "markdown",
   "id": "060b8160",
   "metadata": {},
   "source": [
    "## Operatori Matematici"
   ]
  },
  {
   "cell_type": "code",
   "execution_count": 26,
   "id": "5bf20e3f",
   "metadata": {},
   "outputs": [
    {
     "data": {
      "text/plain": [
       "array([[1, 2],\n",
       "       [3, 4]])"
      ]
     },
     "execution_count": 26,
     "metadata": {},
     "output_type": "execute_result"
    }
   ],
   "source": [
    "a"
   ]
  },
  {
   "cell_type": "code",
   "execution_count": 28,
   "id": "30a3fa61",
   "metadata": {
    "scrolled": true
   },
   "outputs": [
    {
     "data": {
      "text/plain": [
       "array([[False, False],\n",
       "       [ True,  True]])"
      ]
     },
     "execution_count": 28,
     "metadata": {},
     "output_type": "execute_result"
    }
   ],
   "source": [
    "a > 2"
   ]
  },
  {
   "cell_type": "markdown",
   "id": "11859a3c",
   "metadata": {},
   "source": [
    "dtype = bool  :)"
   ]
  },
  {
   "cell_type": "markdown",
   "id": "d560c3fc",
   "metadata": {},
   "source": [
    "## Indexing: slices"
   ]
  },
  {
   "cell_type": "code",
   "execution_count": 29,
   "id": "0241e354",
   "metadata": {
    "scrolled": true
   },
   "outputs": [
    {
     "ename": "NameError",
     "evalue": "name 'I' is not defined",
     "output_type": "error",
     "traceback": [
      "\u001b[1;31m---------------------------------------------------------------------------\u001b[0m",
      "\u001b[1;31mNameError\u001b[0m                                 Traceback (most recent call last)",
      "\u001b[1;32m~\\AppData\\Local\\Temp/ipykernel_23656/132447914.py\u001b[0m in \u001b[0;36m<module>\u001b[1;34m\u001b[0m\n\u001b[1;32m----> 1\u001b[1;33m \u001b[0mI\u001b[0m\u001b[1;33m[\u001b[0m\u001b[0mI\u001b[0m\u001b[1;33m<\u001b[0m\u001b[1;36m10\u001b[0m\u001b[1;33m]\u001b[0m \u001b[1;33m=\u001b[0m \u001b[1;36m0\u001b[0m \u001b[1;31m# mette uguali a zero le caselle < 10\u001b[0m\u001b[1;33m\u001b[0m\u001b[1;33m\u001b[0m\u001b[0m\n\u001b[0m",
      "\u001b[1;31mNameError\u001b[0m: name 'I' is not defined"
     ]
    }
   ],
   "source": [
    "I[I<10] = 0 # mette uguali a zero le caselle < 10"
   ]
  },
  {
   "cell_type": "code",
   "execution_count": 30,
   "id": "217b5ae3",
   "metadata": {},
   "outputs": [
    {
     "ename": "NameError",
     "evalue": "name 'I' is not defined",
     "output_type": "error",
     "traceback": [
      "\u001b[1;31m---------------------------------------------------------------------------\u001b[0m",
      "\u001b[1;31mNameError\u001b[0m                                 Traceback (most recent call last)",
      "\u001b[1;32m~\\AppData\\Local\\Temp/ipykernel_23656/897747136.py\u001b[0m in \u001b[0;36m<module>\u001b[1;34m\u001b[0m\n\u001b[1;32m----> 1\u001b[1;33m \u001b[0mI\u001b[0m\u001b[1;33m[\u001b[0m\u001b[1;33m[\u001b[0m\u001b[1;36m1\u001b[0m\u001b[1;33m,\u001b[0m\u001b[1;36m3\u001b[0m\u001b[1;33m]\u001b[0m\u001b[1;33m,\u001b[0m \u001b[1;33m:\u001b[0m\u001b[1;33m]\u001b[0m \u001b[1;31m# select 2nd\u001b[0m\u001b[1;33m\u001b[0m\u001b[1;33m\u001b[0m\u001b[0m\n\u001b[0m",
      "\u001b[1;31mNameError\u001b[0m: name 'I' is not defined"
     ]
    }
   ],
   "source": [
    "I[[1,3], :] # select 2nd"
   ]
  },
  {
   "cell_type": "markdown",
   "id": "006bcad3",
   "metadata": {},
   "source": [
    "# SciPy"
   ]
  },
  {
   "cell_type": "markdown",
   "id": "b6282a44",
   "metadata": {},
   "source": [
    "Libreria di *calcolo scientifico* che utilizza NumPy, fornisce più funzioni di utilità per l'ottimizzazione"
   ]
  },
  {
   "cell_type": "code",
   "execution_count": 31,
   "id": "0ec957c7",
   "metadata": {},
   "outputs": [],
   "source": [
    "import numpy as np\n",
    "from scipy.sparse.csgraph import connected_components\n",
    "from scipy.sparse import csr_matrix\n",
    "\n",
    "arr = np.array([\n",
    "    [0,1,2],\n",
    "    [1,0,0],\n",
    "    [2,0,0]\n",
    "])"
   ]
  },
  {
   "cell_type": "code",
   "execution_count": 32,
   "id": "e53a7b5c",
   "metadata": {},
   "outputs": [
    {
     "name": "stdout",
     "output_type": "stream",
     "text": [
      "[[0 1 2]\n",
      " [1 0 0]\n",
      " [2 0 0]]\n"
     ]
    }
   ],
   "source": [
    "newarr = csr_matrix(arr)\n",
    "print(cconnected_components.newarr)"
   ]
  }
 ],
 "metadata": {
  "kernelspec": {
   "display_name": "Python 3 (ipykernel)",
   "language": "python",
   "name": "python3"
  },
  "language_info": {
   "codemirror_mode": {
    "name": "ipython",
    "version": 3
   },
   "file_extension": ".py",
   "mimetype": "text/x-python",
   "name": "python",
   "nbconvert_exporter": "python",
   "pygments_lexer": "ipython3",
   "version": "3.9.7"
  }
 },
 "nbformat": 4,
 "nbformat_minor": 5
}
