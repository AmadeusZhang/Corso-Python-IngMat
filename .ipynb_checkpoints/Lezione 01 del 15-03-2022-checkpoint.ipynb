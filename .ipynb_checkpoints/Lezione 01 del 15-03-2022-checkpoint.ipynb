{
 "cells": [
  {
   "cell_type": "markdown",
   "id": "92980809",
   "metadata": {},
   "source": [
    "# Sottofunzioni"
   ]
  },
  {
   "cell_type": "code",
   "execution_count": 1,
   "id": "dcc56227",
   "metadata": {},
   "outputs": [],
   "source": [
    "def is_even(n) :\n",
    "    if n%2 == 0 :\n",
    "        return True\n",
    "    else :\n",
    "        return False"
   ]
  },
  {
   "cell_type": "markdown",
   "id": "462b3589",
   "metadata": {},
   "source": [
    "eseguendo questo codice, non ritorna niente, perché abbiamo solamente definito la funzione is_even(), ma nessun la invoca"
   ]
  },
  {
   "cell_type": "code",
   "execution_count": 2,
   "id": "95b3141f",
   "metadata": {},
   "outputs": [
    {
     "name": "stdout",
     "output_type": "stream",
     "text": [
      "0  numero  True\n",
      "1  numero  False\n",
      "2  numero  True\n",
      "3  numero  False\n",
      "4  numero  True\n",
      "5  numero  False\n",
      "6  numero  True\n",
      "7  numero  False\n",
      "8  numero  True\n",
      "9  numero  False\n",
      "10  numero  True\n"
     ]
    }
   ],
   "source": [
    "i = 0\n",
    "while i <= 10 :\n",
    "    print( i, \" numero \", is_even(i) )\n",
    "    i = i + 1"
   ]
  },
  {
   "cell_type": "code",
   "execution_count": 3,
   "id": "1b65213b",
   "metadata": {},
   "outputs": [
    {
     "name": "stdout",
     "output_type": "stream",
     "text": [
      "0  pari\n",
      "1  dispari\n",
      "2  pari\n",
      "3  dispari\n",
      "4  pari\n",
      "5  dispari\n",
      "6  pari\n",
      "7  dispari\n",
      "8  pari\n",
      "9  dispari\n",
      "10  pari\n"
     ]
    }
   ],
   "source": [
    "i = 0\n",
    "while i <= 10 :\n",
    "    if is_even(i) :\n",
    "        print(i, \" pari\")\n",
    "    else :\n",
    "        print(i, \" dispari\")\n",
    "    i = i + 1"
   ]
  },
  {
   "cell_type": "code",
   "execution_count": 4,
   "id": "f2fe396f",
   "metadata": {},
   "outputs": [
    {
     "name": "stdout",
     "output_type": "stream",
     "text": [
      "0  numero pari? >>  True\n",
      "1  numero pari? >>  False\n",
      "2  numero pari? >>  True\n",
      "3  numero pari? >>  False\n",
      "4  numero pari? >>  True\n",
      "5  numero pari? >>  False\n",
      "6  numero pari? >>  True\n",
      "7  numero pari? >>  False\n",
      "8  numero pari? >>  True\n",
      "9  numero pari? >>  False\n",
      "10  numero pari? >>  True\n"
     ]
    }
   ],
   "source": [
    "i = 0\n",
    "while i <= 10 :\n",
    "    print(i, \" numero pari? >> \", is_even(i))\n",
    "    i = i + 1"
   ]
  },
  {
   "cell_type": "code",
   "execution_count": 5,
   "id": "edb8ad10",
   "metadata": {},
   "outputs": [],
   "source": [
    "def stampa(nome, cognome=\"\") :\n",
    "    print(\"Mi chiamo \", nome, \" \", cognome)"
   ]
  },
  {
   "cell_type": "code",
   "execution_count": 6,
   "id": "49231230",
   "metadata": {},
   "outputs": [
    {
     "name": "stdout",
     "output_type": "stream",
     "text": [
      "Mi chiamo  Alessandro   Campi\n",
      "Mi chiamo  Alessandro   Campi\n"
     ]
    }
   ],
   "source": [
    "stampa( cognome=\"Campi\", nome=\"Alessandro\")\n",
    "stampa( \"Alessandro\", \"Campi\")"
   ]
  },
  {
   "cell_type": "markdown",
   "id": "b25cd838",
   "metadata": {},
   "source": [
    "esiste la possibilità di definire un valore di default del parametro, evitando di assegnarlo nella chiamata"
   ]
  },
  {
   "cell_type": "code",
   "execution_count": 7,
   "id": "4d9ac97f",
   "metadata": {},
   "outputs": [
    {
     "name": "stdout",
     "output_type": "stream",
     "text": [
      "Mi chiamo  Alessandro   \n"
     ]
    }
   ],
   "source": [
    "stampa( nome=\"Alessandro\" )"
   ]
  },
  {
   "cell_type": "code",
   "execution_count": 8,
   "id": "a70f396a",
   "metadata": {},
   "outputs": [
    {
     "name": "stdout",
     "output_type": "stream",
     "text": [
      "Ciao\n",
      "Mondo\n"
     ]
    }
   ],
   "source": [
    "print(\"Ciao\")\n",
    "print(\"Mondo\")"
   ]
  },
  {
   "cell_type": "code",
   "execution_count": 9,
   "id": "12792dac",
   "metadata": {},
   "outputs": [
    {
     "name": "stdout",
     "output_type": "stream",
     "text": [
      "CiaoMondo\n"
     ]
    }
   ],
   "source": [
    "print(\"Ciao\", end=\"\")\n",
    "print(\"Mondo\")"
   ]
  },
  {
   "cell_type": "code",
   "execution_count": 10,
   "id": "612f5c59",
   "metadata": {},
   "outputs": [],
   "source": [
    "def puntoMedio(x1, y1, x2, y2) :\n",
    "    xm = (x1+x2)/2\n",
    "    ym = (y1+y2)/2\n",
    "    return xm, ym"
   ]
  },
  {
   "cell_type": "code",
   "execution_count": 11,
   "id": "23ced88b",
   "metadata": {},
   "outputs": [
    {
     "name": "stdout",
     "output_type": "stream",
     "text": [
      "(2.0, 2.0)\n"
     ]
    }
   ],
   "source": [
    "x1=0\n",
    "y1=0\n",
    "x2=4\n",
    "y2=4\n",
    "print( puntoMedio(x1, y1, x2, y2))"
   ]
  },
  {
   "cell_type": "markdown",
   "id": "939f1a2d",
   "metadata": {},
   "source": [
    "L'elemento restituito è UN elemento con 2 valori"
   ]
  },
  {
   "cell_type": "markdown",
   "id": "6039cd58",
   "metadata": {},
   "source": [
    "# Ricorsione"
   ]
  },
  {
   "cell_type": "code",
   "execution_count": 12,
   "id": "ecc51827",
   "metadata": {},
   "outputs": [],
   "source": [
    "def fatt(n) :\n",
    "    if n==0 :\n",
    "        return 1\n",
    "    return n*fatt(n-1)"
   ]
  },
  {
   "cell_type": "code",
   "execution_count": 13,
   "id": "b8a91fff",
   "metadata": {},
   "outputs": [
    {
     "data": {
      "text/plain": [
       "120"
      ]
     },
     "execution_count": 13,
     "metadata": {},
     "output_type": "execute_result"
    }
   ],
   "source": [
    "n = 5\n",
    "\n",
    "fatt(n)"
   ]
  },
  {
   "cell_type": "markdown",
   "id": "8a1a01be",
   "metadata": {},
   "source": [
    "# Stringhe"
   ]
  },
  {
   "cell_type": "code",
   "execution_count": 15,
   "id": "1a300977",
   "metadata": {},
   "outputs": [
    {
     "name": "stdout",
     "output_type": "stream",
     "text": [
      "A\n"
     ]
    }
   ],
   "source": [
    "s = \"Alessandro\"\n",
    "print(s[0])"
   ]
  },
  {
   "cell_type": "markdown",
   "id": "4209e82b",
   "metadata": {},
   "source": [
    "Le stringhe in Python ammettono uso di parentesi [] come quando trattiamo con gli array"
   ]
  },
  {
   "cell_type": "code",
   "execution_count": 16,
   "id": "d0e0ae4a",
   "metadata": {},
   "outputs": [
    {
     "name": "stdout",
     "output_type": "stream",
     "text": [
      "o\n"
     ]
    }
   ],
   "source": [
    "print(s[-1])"
   ]
  },
  {
   "cell_type": "code",
   "execution_count": 17,
   "id": "360e2fa3",
   "metadata": {},
   "outputs": [
    {
     "name": "stdout",
     "output_type": "stream",
     "text": [
      "les\n"
     ]
    }
   ],
   "source": [
    "print(s[1:4])"
   ]
  },
  {
   "cell_type": "markdown",
   "id": "fbbb8115",
   "metadata": {},
   "source": [
    "NB: estremo sx incluso, estremo dx escluso"
   ]
  },
  {
   "cell_type": "code",
   "execution_count": 18,
   "id": "88cfca2c",
   "metadata": {},
   "outputs": [
    {
     "name": "stdout",
     "output_type": "stream",
     "text": [
      "\n"
     ]
    }
   ],
   "source": [
    "print(s[4:1])"
   ]
  },
  {
   "cell_type": "markdown",
   "id": "bc55cd16",
   "metadata": {},
   "source": [
    "4:1 ovviamente non esiste"
   ]
  },
  {
   "cell_type": "code",
   "execution_count": 19,
   "id": "83a05888",
   "metadata": {},
   "outputs": [
    {
     "name": "stdout",
     "output_type": "stream",
     "text": [
      "ndr\n"
     ]
    }
   ],
   "source": [
    "print(s[-4: -1])"
   ]
  },
  {
   "cell_type": "markdown",
   "id": "e552c8c1",
   "metadata": {},
   "source": [
    "Posso percorrere solo da sinistra a destra, e non viceversa"
   ]
  },
  {
   "cell_type": "code",
   "execution_count": 21,
   "id": "eaee1f0d",
   "metadata": {},
   "outputs": [
    {
     "name": "stdout",
     "output_type": "stream",
     "text": [
      "Alessandro\n",
      "Alessandro\n",
      "Campi\n",
      "Alessandro\n"
     ]
    }
   ],
   "source": [
    "s = \"Alessandro\"\n",
    "a = s # ho copiato l'indirizzo di s in a\n",
    "\n",
    "print(s)\n",
    "print(a)\n",
    "\n",
    "s = \"Campi\" # memoria viene liberata e s punta ad un nuovo indirizzo contenente \"Campi\"\n",
    "print(s)\n",
    "print(a)"
   ]
  },
  {
   "cell_type": "code",
   "execution_count": 25,
   "id": "159b409f",
   "metadata": {},
   "outputs": [
    {
     "name": "stdout",
     "output_type": "stream",
     "text": [
      "True\n",
      "False\n",
      "False\n",
      "True\n"
     ]
    }
   ],
   "source": [
    "esiste = 'a' in \"Alessandro\"\n",
    "print(esiste)\n",
    "esiste = 'al' in \"Alessandro\" # case-sensitive\n",
    "print(esiste)\n",
    "esiste = 'ae' in \"Alessandro\"\n",
    "print(esiste)\n",
    "esiste = 'a' in \"Alessandro\" and 'e' in \"Alessandro\"\n",
    "print(esiste)"
   ]
  },
  {
   "cell_type": "code",
   "execution_count": 26,
   "id": "bc058325",
   "metadata": {},
   "outputs": [
    {
     "name": "stdout",
     "output_type": "stream",
     "text": [
      "banana\n"
     ]
    }
   ],
   "source": [
    "a = \"ba\"\n",
    "b = \"na\"\n",
    "c = a + b*2\n",
    "print(c)"
   ]
  },
  {
   "cell_type": "code",
   "execution_count": 27,
   "id": "09cfd111",
   "metadata": {},
   "outputs": [
    {
     "data": {
      "text/plain": [
       "6"
      ]
     },
     "execution_count": 27,
     "metadata": {},
     "output_type": "execute_result"
    }
   ],
   "source": [
    "len(c) # return length of a string"
   ]
  },
  {
   "cell_type": "code",
   "execution_count": 28,
   "id": "ca51c88c",
   "metadata": {},
   "outputs": [
    {
     "name": "stdout",
     "output_type": "stream",
     "text": [
      "BANANA\n"
     ]
    }
   ],
   "source": [
    "print(c.upper())"
   ]
  },
  {
   "cell_type": "code",
   "execution_count": 29,
   "id": "3396bebf",
   "metadata": {},
   "outputs": [
    {
     "name": "stdout",
     "output_type": "stream",
     "text": [
      "banana\n"
     ]
    }
   ],
   "source": [
    "print(c)"
   ]
  },
  {
   "cell_type": "code",
   "execution_count": 30,
   "id": "5fa3f4ff",
   "metadata": {},
   "outputs": [
    {
     "name": "stdout",
     "output_type": "stream",
     "text": [
      "banana\n"
     ]
    }
   ],
   "source": [
    "print(c.upper().lower())"
   ]
  },
  {
   "cell_type": "markdown",
   "id": "95499a49",
   "metadata": {},
   "source": [
    "## Oggetti mutabili e immutabili"
   ]
  },
  {
   "cell_type": "markdown",
   "id": "75657e07",
   "metadata": {},
   "source": [
    "### Tuple"
   ]
  },
  {
   "cell_type": "code",
   "execution_count": 31,
   "id": "4a04f869",
   "metadata": {},
   "outputs": [
    {
     "name": "stdout",
     "output_type": "stream",
     "text": [
      "(3, 67, 8)\n",
      "3\n",
      "8\n"
     ]
    }
   ],
   "source": [
    "a = (3, 67, 8)\n",
    "print(a)\n",
    "print(a[0])\n",
    "print(a[-1])"
   ]
  },
  {
   "cell_type": "code",
   "execution_count": 35,
   "id": "6ce9ab24",
   "metadata": {},
   "outputs": [
    {
     "name": "stdout",
     "output_type": "stream",
     "text": [
      "(3, 'alex', 8)\n",
      "3\n",
      "alex\n",
      "8\n",
      "x\n"
     ]
    }
   ],
   "source": [
    "a = (3, 'alex', 8)\n",
    "print(a)\n",
    "print(a[0])\n",
    "print(a[1])\n",
    "print(a[2])\n",
    "print(a[1][3])"
   ]
  },
  {
   "cell_type": "code",
   "execution_count": 36,
   "id": "a8246edd",
   "metadata": {},
   "outputs": [
    {
     "name": "stdout",
     "output_type": "stream",
     "text": [
      "('Campi', 'Siro')\n"
     ]
    }
   ],
   "source": [
    "a = (3, 'alex', 8, (\"Campi\", \"Siro\"))\n",
    "print(a[3])"
   ]
  },
  {
   "cell_type": "code",
   "execution_count": 37,
   "id": "0b3b0762",
   "metadata": {},
   "outputs": [
    {
     "name": "stdout",
     "output_type": "stream",
     "text": [
      "Campi\n"
     ]
    }
   ],
   "source": [
    "print(a[3][0])"
   ]
  },
  {
   "cell_type": "code",
   "execution_count": 38,
   "id": "434b0875",
   "metadata": {},
   "outputs": [
    {
     "name": "stdout",
     "output_type": "stream",
     "text": [
      "2\n"
     ]
    }
   ],
   "source": [
    "print(len(a[3]))"
   ]
  },
  {
   "cell_type": "markdown",
   "id": "cee3d7f0",
   "metadata": {},
   "source": [
    "Lunghezza calcolata è superficiale"
   ]
  },
  {
   "cell_type": "code",
   "execution_count": 39,
   "id": "52d1f023",
   "metadata": {},
   "outputs": [
    {
     "ename": "TypeError",
     "evalue": "'tuple' object does not support item assignment",
     "output_type": "error",
     "traceback": [
      "\u001b[1;31m---------------------------------------------------------------------------\u001b[0m",
      "\u001b[1;31mTypeError\u001b[0m                                 Traceback (most recent call last)",
      "\u001b[1;32m~\\AppData\\Local\\Temp/ipykernel_35272/1974072078.py\u001b[0m in \u001b[0;36m<module>\u001b[1;34m\u001b[0m\n\u001b[1;32m----> 1\u001b[1;33m \u001b[0ma\u001b[0m\u001b[1;33m[\u001b[0m\u001b[1;36m0\u001b[0m\u001b[1;33m]\u001b[0m\u001b[1;33m=\u001b[0m\u001b[1;36m8\u001b[0m\u001b[1;33m\u001b[0m\u001b[1;33m\u001b[0m\u001b[0m\n\u001b[0m",
      "\u001b[1;31mTypeError\u001b[0m: 'tuple' object does not support item assignment"
     ]
    }
   ],
   "source": [
    "a[0]=8"
   ]
  },
  {
   "cell_type": "markdown",
   "id": "0130075a",
   "metadata": {},
   "source": [
    "Le tuple sono immutabili"
   ]
  },
  {
   "cell_type": "code",
   "execution_count": 41,
   "id": "5073819b",
   "metadata": {},
   "outputs": [
    {
     "name": "stdout",
     "output_type": "stream",
     "text": [
      "8\n"
     ]
    }
   ],
   "source": [
    "a=8\n",
    "print(a)"
   ]
  },
  {
   "cell_type": "markdown",
   "id": "e76eb629",
   "metadata": {},
   "source": [
    "la tupla precedente viene liberata nella heap e di seguito riciclata"
   ]
  },
  {
   "cell_type": "markdown",
   "id": "5f1dc032",
   "metadata": {},
   "source": [
    "### Liste"
   ]
  },
  {
   "cell_type": "code",
   "execution_count": 42,
   "id": "81df1e42",
   "metadata": {},
   "outputs": [],
   "source": [
    "a = [3, \"alex\", 8, (\"Campi\", \"Siro\")] # al posto di (), scrivo [], sono mutabili!"
   ]
  },
  {
   "cell_type": "code",
   "execution_count": 43,
   "id": "1abe111b",
   "metadata": {},
   "outputs": [
    {
     "name": "stdout",
     "output_type": "stream",
     "text": [
      "[3, 'alex', 8, ('Campi', 'Siro')]\n"
     ]
    }
   ],
   "source": [
    "print(a)"
   ]
  },
  {
   "cell_type": "code",
   "execution_count": 44,
   "id": "15a0dd90",
   "metadata": {},
   "outputs": [
    {
     "name": "stdout",
     "output_type": "stream",
     "text": [
      "[9, 'alex', 8, ('Campi', 'Siro')]\n"
     ]
    }
   ],
   "source": [
    "a[0]=9\n",
    "print(a)"
   ]
  },
  {
   "cell_type": "code",
   "execution_count": 45,
   "id": "a45b9597",
   "metadata": {},
   "outputs": [
    {
     "name": "stdout",
     "output_type": "stream",
     "text": [
      "[9, 'alex', 8, ('Campi', 'Siro'), 0]\n"
     ]
    }
   ],
   "source": [
    "a.append(0)\n",
    "print(a)"
   ]
  },
  {
   "cell_type": "code",
   "execution_count": 46,
   "id": "564c3c78",
   "metadata": {},
   "outputs": [
    {
     "name": "stdout",
     "output_type": "stream",
     "text": [
      "[9, 'alex', 8, ('Campi', 'Siro'), 0, ['ciao', 'mondo']]\n"
     ]
    }
   ],
   "source": [
    "a.append([\"ciao\", \"mondo\"])\n",
    "print(a)"
   ]
  },
  {
   "cell_type": "code",
   "execution_count": 47,
   "id": "a8eb809a",
   "metadata": {},
   "outputs": [
    {
     "name": "stdout",
     "output_type": "stream",
     "text": [
      "[9, 'alex', 8, ('Campi', 'Siro'), 0, ['ciao', 'mondo'], 'test']\n"
     ]
    }
   ],
   "source": [
    "a.append((\"test\"))\n",
    "print(a)"
   ]
  },
  {
   "cell_type": "markdown",
   "id": "db0e014c",
   "metadata": {},
   "source": [
    "# Loop - For"
   ]
  },
  {
   "cell_type": "code",
   "execution_count": 48,
   "id": "5e807809",
   "metadata": {},
   "outputs": [
    {
     "name": "stdout",
     "output_type": "stream",
     "text": [
      "Il quadrato di  1  è:  1\n",
      "Il quadrato di  2  è:  4\n",
      "Il quadrato di  3  è:  9\n",
      "Il quadrato di  4  è:  16\n",
      "Il quadrato di  5  è:  25\n"
     ]
    }
   ],
   "source": [
    "seq = [1, 2, 3, 4, 5]\n",
    "for n in seq :\n",
    "    print(\"Il quadrato di \", n, ' è: ', n**2)"
   ]
  },
  {
   "cell_type": "code",
   "execution_count": 49,
   "id": "44c246d5",
   "metadata": {},
   "outputs": [
    {
     "name": "stdout",
     "output_type": "stream",
     "text": [
      "Il doppio di 1 è:  2\n",
      "Il doppio di [2, 4] è:  [2, 4, 2, 4]\n",
      "Il doppio di ['ciao', 'mondo'] è:  ['ciao', 'mondo', 'ciao', 'mondo']\n",
      "Il doppio di 4 è:  8\n",
      "Il doppio di 5 è:  10\n"
     ]
    }
   ],
   "source": [
    "seq = [1, [2, 4], [\"ciao\", \"mondo\"], 4, 5]\n",
    "for n in seq :\n",
    "    print('Il doppio di', n, 'è: ', n*2)"
   ]
  },
  {
   "cell_type": "code",
   "execution_count": 50,
   "id": "8c389bf9",
   "metadata": {},
   "outputs": [
    {
     "name": "stdout",
     "output_type": "stream",
     "text": [
      "Il doppio di 0 è 0\n",
      "Il doppio di 1 è 2\n",
      "Il doppio di 2 è 4\n",
      "Il doppio di 3 è 6\n",
      "Il doppio di 4 è 8\n",
      "Il doppio di 5 è 10\n",
      "Il doppio di 6 è 12\n",
      "Il doppio di 7 è 14\n",
      "Il doppio di 8 è 16\n",
      "Il doppio di 9 è 18\n"
     ]
    }
   ],
   "source": [
    "for n in range(10) :\n",
    "    print('Il doppio di', n, 'è', n*2)"
   ]
  },
  {
   "cell_type": "code",
   "execution_count": 52,
   "id": "7b60f724",
   "metadata": {},
   "outputs": [
    {
     "name": "stdout",
     "output_type": "stream",
     "text": [
      "Il doppio di 5 è 10\n",
      "Il doppio di 6 è 12\n",
      "Il doppio di 7 è 14\n",
      "Il doppio di 8 è 16\n",
      "Il doppio di 9 è 18\n"
     ]
    }
   ],
   "source": [
    "for n in range(5,10) :\n",
    "    print('Il doppio di', n, 'è', n*2)"
   ]
  },
  {
   "cell_type": "code",
   "execution_count": 53,
   "id": "6b95ea01",
   "metadata": {},
   "outputs": [
    {
     "name": "stdout",
     "output_type": "stream",
     "text": [
      "Il doppio di 5 è 10\n",
      "Il doppio di 7 è 14\n",
      "Il doppio di 9 è 18\n"
     ]
    }
   ],
   "source": [
    "for n in range(5, 10, 2) :\n",
    "    print('Il doppio di', n, 'è', n*2)"
   ]
  },
  {
   "cell_type": "code",
   "execution_count": 54,
   "id": "a5644bce",
   "metadata": {},
   "outputs": [
    {
     "name": "stdout",
     "output_type": "stream",
     "text": [
      "Il doppio di 4 è 8\n",
      "Il doppio di 6 è 12\n",
      "Il doppio di 8 è 16\n"
     ]
    }
   ],
   "source": [
    "for n in range(4, 10, 2) :\n",
    "    print('Il doppio di', n, 'è', n*2)"
   ]
  },
  {
   "cell_type": "code",
   "execution_count": 55,
   "id": "f7d5688e",
   "metadata": {},
   "outputs": [
    {
     "name": "stdout",
     "output_type": "stream",
     "text": [
      "c\n",
      "i\n",
      "a\n",
      "o\n"
     ]
    }
   ],
   "source": [
    "for n in \"ciao\" :\n",
    "    print(n)"
   ]
  },
  {
   "cell_type": "markdown",
   "id": "5209f3d3",
   "metadata": {},
   "source": [
    "# Matrici"
   ]
  },
  {
   "cell_type": "markdown",
   "id": "a7459ad6",
   "metadata": {},
   "source": [
    "--> Lista annidata"
   ]
  },
  {
   "cell_type": "code",
   "execution_count": 58,
   "id": "7123cb69",
   "metadata": {},
   "outputs": [
    {
     "name": "stdout",
     "output_type": "stream",
     "text": [
      "[[1, 2, 3], [4, 5, 6], [7, 8, 9]]\n",
      "[1, 2, 3]\n",
      "[4, 5, 6]\n",
      "[7, 8, 9]\n"
     ]
    }
   ],
   "source": [
    "Matrice = [ [1,2,3], [4,5,6], [7,8,9] ]\n",
    "print(Matrice)\n",
    "\n",
    "for i in range(3) :\n",
    "    print(Matrice[i])"
   ]
  },
  {
   "cell_type": "code",
   "execution_count": 60,
   "id": "e7a3fa13",
   "metadata": {},
   "outputs": [
    {
     "name": "stdout",
     "output_type": "stream",
     "text": [
      "1 2 3 \n",
      "4 5 6 \n",
      "7 8 9 \n"
     ]
    }
   ],
   "source": [
    "for i in range(3) :\n",
    "    for j in range(3) :\n",
    "        print(Matrice[i][j], end=\" \")\n",
    "    print()"
   ]
  },
  {
   "cell_type": "code",
   "execution_count": 62,
   "id": "51ab742f",
   "metadata": {},
   "outputs": [],
   "source": [
    "num_r = 3\n",
    "num_c = 4\n",
    "m = []"
   ]
  },
  {
   "cell_type": "code",
   "execution_count": null,
   "id": "7dcee06c",
   "metadata": {},
   "outputs": [],
   "source": [
    "for i in range(num_r) :\n",
    "    n = []\n",
    "    for j in range(num_c) :\n",
    "        n.append( input(\"Inserire elemento: \") )\n",
    "    m.append(n)\n",
    "\n",
    "print(\"m: \", m)"
   ]
  },
  {
   "cell_type": "code",
   "execution_count": 1,
   "id": "f2a26ad3",
   "metadata": {},
   "outputs": [
    {
     "name": "stdout",
     "output_type": "stream",
     "text": [
      "[0, 1, 4, 9, 16, 25, 36, 49, 64, 81]\n"
     ]
    }
   ],
   "source": [
    "y = [x**2 for x in range(10)]\n",
    "print(y)"
   ]
  },
  {
   "cell_type": "code",
   "execution_count": 2,
   "id": "81679048",
   "metadata": {},
   "outputs": [
    {
     "name": "stdout",
     "output_type": "stream",
     "text": [
      "[0, 1, 4, 9, 16, 25, 36, 49, 64, 81]\n"
     ]
    }
   ],
   "source": [
    "y = []\n",
    "for x in range(10) :\n",
    "    y.append(x**2)\n",
    "    \n",
    "print(y)"
   ]
  },
  {
   "cell_type": "code",
   "execution_count": 3,
   "id": "9d853d1d",
   "metadata": {},
   "outputs": [],
   "source": [
    "def square(n) :\n",
    "    return n**2"
   ]
  },
  {
   "cell_type": "code",
   "execution_count": 4,
   "id": "c2152839",
   "metadata": {},
   "outputs": [
    {
     "name": "stdout",
     "output_type": "stream",
     "text": [
      "[0, 1, 4, 9, 16, 25, 36, 49, 64, 81]\n"
     ]
    }
   ],
   "source": [
    "squares = map(square, range(10))\n",
    "print(list(squares))"
   ]
  },
  {
   "cell_type": "code",
   "execution_count": 5,
   "id": "0c6c84d4",
   "metadata": {},
   "outputs": [
    {
     "name": "stdout",
     "output_type": "stream",
     "text": [
      "Help on class map in module builtins:\n",
      "\n",
      "class map(object)\n",
      " |  map(func, *iterables) --> map object\n",
      " |  \n",
      " |  Make an iterator that computes the function using arguments from\n",
      " |  each of the iterables.  Stops when the shortest iterable is exhausted.\n",
      " |  \n",
      " |  Methods defined here:\n",
      " |  \n",
      " |  __getattribute__(self, name, /)\n",
      " |      Return getattr(self, name).\n",
      " |  \n",
      " |  __iter__(self, /)\n",
      " |      Implement iter(self).\n",
      " |  \n",
      " |  __next__(self, /)\n",
      " |      Implement next(self).\n",
      " |  \n",
      " |  __reduce__(...)\n",
      " |      Return state information for pickling.\n",
      " |  \n",
      " |  ----------------------------------------------------------------------\n",
      " |  Static methods defined here:\n",
      " |  \n",
      " |  __new__(*args, **kwargs) from builtins.type\n",
      " |      Create and return a new object.  See help(type) for accurate signature.\n",
      "\n"
     ]
    }
   ],
   "source": [
    "help(map)"
   ]
  },
  {
   "cell_type": "code",
   "execution_count": 6,
   "id": "ab67253a",
   "metadata": {},
   "outputs": [
    {
     "name": "stdout",
     "output_type": "stream",
     "text": [
      "[0, 1, 4, 9, 16, 25, 36, 49, 64, 81]\n"
     ]
    }
   ],
   "source": [
    "print([square(x) for x in range(10)])"
   ]
  },
  {
   "cell_type": "code",
   "execution_count": 7,
   "id": "c3d18fe3",
   "metadata": {},
   "outputs": [],
   "source": [
    "def is_even(n) :\n",
    "    if n%2 == 0 :\n",
    "        return True\n",
    "    else :\n",
    "        return False"
   ]
  },
  {
   "cell_type": "code",
   "execution_count": 8,
   "id": "7491ac85",
   "metadata": {},
   "outputs": [],
   "source": [
    "even = filter(is_even, range(10))"
   ]
  },
  {
   "cell_type": "code",
   "execution_count": 9,
   "id": "29c4a48d",
   "metadata": {},
   "outputs": [
    {
     "name": "stdout",
     "output_type": "stream",
     "text": [
      "[0, 2, 4, 6, 8]\n"
     ]
    }
   ],
   "source": [
    "print(list(even))"
   ]
  },
  {
   "cell_type": "code",
   "execution_count": 10,
   "id": "81ef7478",
   "metadata": {},
   "outputs": [
    {
     "name": "stdout",
     "output_type": "stream",
     "text": [
      "Help on class filter in module builtins:\n",
      "\n",
      "class filter(object)\n",
      " |  filter(function or None, iterable) --> filter object\n",
      " |  \n",
      " |  Return an iterator yielding those items of iterable for which function(item)\n",
      " |  is true. If function is None, return the items that are true.\n",
      " |  \n",
      " |  Methods defined here:\n",
      " |  \n",
      " |  __getattribute__(self, name, /)\n",
      " |      Return getattr(self, name).\n",
      " |  \n",
      " |  __iter__(self, /)\n",
      " |      Implement iter(self).\n",
      " |  \n",
      " |  __next__(self, /)\n",
      " |      Implement next(self).\n",
      " |  \n",
      " |  __reduce__(...)\n",
      " |      Return state information for pickling.\n",
      " |  \n",
      " |  ----------------------------------------------------------------------\n",
      " |  Static methods defined here:\n",
      " |  \n",
      " |  __new__(*args, **kwargs) from builtins.type\n",
      " |      Create and return a new object.  See help(type) for accurate signature.\n",
      "\n"
     ]
    }
   ],
   "source": [
    "help(filter)"
   ]
  },
  {
   "cell_type": "code",
   "execution_count": 11,
   "id": "0b3609de",
   "metadata": {},
   "outputs": [
    {
     "ename": "TypeError",
     "evalue": "unsupported operand type(s) for %: 'range' and 'int'",
     "output_type": "error",
     "traceback": [
      "\u001b[1;31m---------------------------------------------------------------------------\u001b[0m",
      "\u001b[1;31mTypeError\u001b[0m                                 Traceback (most recent call last)",
      "\u001b[1;32m~\\AppData\\Local\\Temp/ipykernel_10848/964285278.py\u001b[0m in \u001b[0;36m<module>\u001b[1;34m\u001b[0m\n\u001b[1;32m----> 1\u001b[1;33m \u001b[0mfilter\u001b[0m\u001b[1;33m(\u001b[0m\u001b[1;32mNone\u001b[0m\u001b[1;33m,\u001b[0m \u001b[0mis_even\u001b[0m\u001b[1;33m(\u001b[0m\u001b[0mrange\u001b[0m\u001b[1;33m(\u001b[0m\u001b[1;36m10\u001b[0m\u001b[1;33m)\u001b[0m\u001b[1;33m)\u001b[0m\u001b[1;33m)\u001b[0m\u001b[1;33m\u001b[0m\u001b[1;33m\u001b[0m\u001b[0m\n\u001b[0m",
      "\u001b[1;32m~\\AppData\\Local\\Temp/ipykernel_10848/2852837001.py\u001b[0m in \u001b[0;36mis_even\u001b[1;34m(n)\u001b[0m\n\u001b[0;32m      1\u001b[0m \u001b[1;32mdef\u001b[0m \u001b[0mis_even\u001b[0m\u001b[1;33m(\u001b[0m\u001b[0mn\u001b[0m\u001b[1;33m)\u001b[0m \u001b[1;33m:\u001b[0m\u001b[1;33m\u001b[0m\u001b[1;33m\u001b[0m\u001b[0m\n\u001b[1;32m----> 2\u001b[1;33m     \u001b[1;32mif\u001b[0m \u001b[0mn\u001b[0m\u001b[1;33m%\u001b[0m\u001b[1;36m2\u001b[0m \u001b[1;33m==\u001b[0m \u001b[1;36m0\u001b[0m \u001b[1;33m:\u001b[0m\u001b[1;33m\u001b[0m\u001b[1;33m\u001b[0m\u001b[0m\n\u001b[0m\u001b[0;32m      3\u001b[0m         \u001b[1;32mreturn\u001b[0m \u001b[1;32mTrue\u001b[0m\u001b[1;33m\u001b[0m\u001b[1;33m\u001b[0m\u001b[0m\n\u001b[0;32m      4\u001b[0m     \u001b[1;32melse\u001b[0m \u001b[1;33m:\u001b[0m\u001b[1;33m\u001b[0m\u001b[1;33m\u001b[0m\u001b[0m\n\u001b[0;32m      5\u001b[0m         \u001b[1;32mreturn\u001b[0m \u001b[1;32mFalse\u001b[0m\u001b[1;33m\u001b[0m\u001b[1;33m\u001b[0m\u001b[0m\n",
      "\u001b[1;31mTypeError\u001b[0m: unsupported operand type(s) for %: 'range' and 'int'"
     ]
    }
   ],
   "source": [
    "filter(None, is_even(range(10)))"
   ]
  },
  {
   "cell_type": "code",
   "execution_count": 12,
   "id": "404f1dac",
   "metadata": {},
   "outputs": [],
   "source": [
    "num = [1, 2, 3, 4, 5]"
   ]
  },
  {
   "cell_type": "code",
   "execution_count": 13,
   "id": "77d13679",
   "metadata": {},
   "outputs": [
    {
     "ename": "TypeError",
     "evalue": "unsupported operand type(s) for %: 'list' and 'int'",
     "output_type": "error",
     "traceback": [
      "\u001b[1;31m---------------------------------------------------------------------------\u001b[0m",
      "\u001b[1;31mTypeError\u001b[0m                                 Traceback (most recent call last)",
      "\u001b[1;32m~\\AppData\\Local\\Temp/ipykernel_10848/958658853.py\u001b[0m in \u001b[0;36m<module>\u001b[1;34m\u001b[0m\n\u001b[1;32m----> 1\u001b[1;33m \u001b[0mfilter\u001b[0m\u001b[1;33m(\u001b[0m \u001b[1;32mNone\u001b[0m\u001b[1;33m,\u001b[0m \u001b[0mis_even\u001b[0m\u001b[1;33m(\u001b[0m\u001b[0mnum\u001b[0m\u001b[1;33m)\u001b[0m\u001b[1;33m)\u001b[0m\u001b[1;33m\u001b[0m\u001b[1;33m\u001b[0m\u001b[0m\n\u001b[0m",
      "\u001b[1;32m~\\AppData\\Local\\Temp/ipykernel_10848/2852837001.py\u001b[0m in \u001b[0;36mis_even\u001b[1;34m(n)\u001b[0m\n\u001b[0;32m      1\u001b[0m \u001b[1;32mdef\u001b[0m \u001b[0mis_even\u001b[0m\u001b[1;33m(\u001b[0m\u001b[0mn\u001b[0m\u001b[1;33m)\u001b[0m \u001b[1;33m:\u001b[0m\u001b[1;33m\u001b[0m\u001b[1;33m\u001b[0m\u001b[0m\n\u001b[1;32m----> 2\u001b[1;33m     \u001b[1;32mif\u001b[0m \u001b[0mn\u001b[0m\u001b[1;33m%\u001b[0m\u001b[1;36m2\u001b[0m \u001b[1;33m==\u001b[0m \u001b[1;36m0\u001b[0m \u001b[1;33m:\u001b[0m\u001b[1;33m\u001b[0m\u001b[1;33m\u001b[0m\u001b[0m\n\u001b[0m\u001b[0;32m      3\u001b[0m         \u001b[1;32mreturn\u001b[0m \u001b[1;32mTrue\u001b[0m\u001b[1;33m\u001b[0m\u001b[1;33m\u001b[0m\u001b[0m\n\u001b[0;32m      4\u001b[0m     \u001b[1;32melse\u001b[0m \u001b[1;33m:\u001b[0m\u001b[1;33m\u001b[0m\u001b[1;33m\u001b[0m\u001b[0m\n\u001b[0;32m      5\u001b[0m         \u001b[1;32mreturn\u001b[0m \u001b[1;32mFalse\u001b[0m\u001b[1;33m\u001b[0m\u001b[1;33m\u001b[0m\u001b[0m\n",
      "\u001b[1;31mTypeError\u001b[0m: unsupported operand type(s) for %: 'list' and 'int'"
     ]
    }
   ],
   "source": [
    "filter( None, is_even(num))"
   ]
  },
  {
   "cell_type": "code",
   "execution_count": null,
   "id": "7e4e6827",
   "metadata": {},
   "outputs": [],
   "source": []
  }
 ],
 "metadata": {
  "kernelspec": {
   "display_name": "Python 3 (ipykernel)",
   "language": "python",
   "name": "python3"
  },
  "language_info": {
   "codemirror_mode": {
    "name": "ipython",
    "version": 3
   },
   "file_extension": ".py",
   "mimetype": "text/x-python",
   "name": "python",
   "nbconvert_exporter": "python",
   "pygments_lexer": "ipython3",
   "version": "3.9.7"
  }
 },
 "nbformat": 4,
 "nbformat_minor": 5
}
