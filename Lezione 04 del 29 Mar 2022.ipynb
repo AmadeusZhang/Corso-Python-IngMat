{
 "cells": [
  {
   "cell_type": "markdown",
   "metadata": {},
   "source": [
    "# Python e MySQL"
   ]
  },
  {
   "cell_type": "code",
   "execution_count": null,
   "metadata": {},
   "outputs": [],
   "source": [
    "import mysql.connector                      # Libreria per la connessione al DB\n",
    "mydb = mysql.connector.connect (\n",
    "    host = \"localhost\",                     # database locale\n",
    "    user = \"root\",                          # utente locale\n",
    "    passwd = \"passionInAction20220328\",     # password locale\n",
    "    database = \"world\"                      # nome del database\n",
    ")\n",
    "\n",
    "# Creare un cursore\n",
    "mycursor = mydb.cursor()\n",
    "\n",
    "mycursor.execute(\"select * from city\")\n",
    "myresult = mycursor.fetchall()\n",
    "\n",
    "for x in myresult :\n",
    "    print(x)"
   ]
  },
  {
   "cell_type": "markdown",
   "metadata": {},
   "source": [
    "# Strutture Dati: Dizionari"
   ]
  },
  {
   "cell_type": "markdown",
   "metadata": {},
   "source": [
    "Un dizionario ha un chiave ed una valore -> variabile multivariata con indice alfabetico <==> non ha ordinamento preciso"
   ]
  },
  {
   "cell_type": "code",
   "execution_count": 2,
   "metadata": {},
   "outputs": [
    {
     "name": "stdout",
     "output_type": "stream",
     "text": [
      "{'money': 12, 'candy': 3, 'tissues': 75}\n"
     ]
    }
   ],
   "source": [
    "purse = dict()\n",
    "purse['money'] = 12\n",
    "purse['candy'] = 3\n",
    "purse['tissues'] = 75\n",
    "print(purse)"
   ]
  },
  {
   "cell_type": "markdown",
   "metadata": {},
   "source": [
    "I dizionari possono essere creati in vari, contenente vari valori.\n",
    "\n",
    "I chiavi sono in formato *stringhe*, mentre i valori in *liste*"
   ]
  },
  {
   "cell_type": "code",
   "execution_count": 4,
   "metadata": {},
   "outputs": [
    {
     "name": "stdout",
     "output_type": "stream",
     "text": [
      "{1: 'one', 2: 'two', 3: 'three'}\n"
     ]
    }
   ],
   "source": [
    "data = [(1, 'one'), (2, 'two'), (3, 'three')]            # liste di tuple\n",
    "names = dict(data)\n",
    "print(names)"
   ]
  },
  {
   "cell_type": "markdown",
   "metadata": {},
   "source": [
    "Il dizionario trova rapidamente i dati perché utilizza una funzione di _hash_ : per questo non accetta tipo dati come liste"
   ]
  },
  {
   "cell_type": "code",
   "execution_count": 6,
   "metadata": {},
   "outputs": [
    {
     "ename": "TypeError",
     "evalue": "unhashable type: 'list'",
     "output_type": "error",
     "traceback": [
      "\u001b[1;31m---------------------------------------------------------------------------\u001b[0m",
      "\u001b[1;31mTypeError\u001b[0m                                 Traceback (most recent call last)",
      "\u001b[1;32m~\\AppData\\Local\\Temp/ipykernel_36664/516878644.py\u001b[0m in \u001b[0;36m<module>\u001b[1;34m\u001b[0m\n\u001b[1;32m----> 1\u001b[1;33m \u001b[0mbad_dict\u001b[0m \u001b[1;33m=\u001b[0m \u001b[1;33m{\u001b[0m\u001b[1;33m[\u001b[0m\u001b[1;34m\"Joe\"\u001b[0m\u001b[1;33m,\u001b[0m \u001b[1;34m\"Warren\"\u001b[0m\u001b[1;33m]\u001b[0m \u001b[1;33m:\u001b[0m \u001b[1;36m1\u001b[0m\u001b[1;33m,\u001b[0m \u001b[1;33m[\u001b[0m\u001b[1;34m\"Scott\"\u001b[0m\u001b[1;33m,\u001b[0m \u001b[1;34m\"Rixner\"\u001b[0m\u001b[1;33m]\u001b[0m \u001b[1;33m:\u001b[0m \u001b[1;36m2\u001b[0m\u001b[1;33m,\u001b[0m \u001b[1;33m[\u001b[0m\u001b[1;34m\"John\"\u001b[0m\u001b[1;33m,\u001b[0m \u001b[1;34m\"Greiner\"\u001b[0m\u001b[1;33m]\u001b[0m \u001b[1;33m:\u001b[0m \u001b[1;36m3\u001b[0m\u001b[1;33m}\u001b[0m\u001b[1;33m\u001b[0m\u001b[1;33m\u001b[0m\u001b[0m\n\u001b[0m\u001b[0;32m      2\u001b[0m \u001b[0mprint\u001b[0m\u001b[1;33m(\u001b[0m\u001b[0mbad_dict\u001b[0m\u001b[1;33m)\u001b[0m\u001b[1;33m\u001b[0m\u001b[1;33m\u001b[0m\u001b[0m\n",
      "\u001b[1;31mTypeError\u001b[0m: unhashable type: 'list'"
     ]
    }
   ],
   "source": [
    "bad_dict = {[\"Joe\", \"Warren\"] : 1, [\"Scott\", \"Rixner\"] : 2, [\"John\", \"Greiner\"] : 3}\n",
    "print(bad_dict)"
   ]
  },
  {
   "cell_type": "code",
   "execution_count": 7,
   "metadata": {},
   "outputs": [
    {
     "name": "stdout",
     "output_type": "stream",
     "text": [
      "{('Joe', 'Warren'): 1, ('Scott', 'Rixner'): 2, ('John', 'Greiner'): 3}\n"
     ]
    }
   ],
   "source": [
    "good_dict = {(\"Joe\", \"Warren\") : 1, (\"Scott\", \"Rixner\") : 2, (\"John\", \"Greiner\") : 3}\n",
    "print(good_dict)"
   ]
  },
  {
   "cell_type": "code",
   "execution_count": 13,
   "metadata": {},
   "outputs": [
    {
     "name": "stdout",
     "output_type": "stream",
     "text": [
      "Entrer a line of text:\n",
      "Words:  ['ciao', 'ciao', 'mondo']\n",
      "Counting...\n",
      "Counts:  {'ciao': 2, 'mondo': 1}\n"
     ]
    }
   ],
   "source": [
    "counts = dict()\n",
    "print(\"Entrer a line of text:\")\n",
    "line = input(\"> \")\n",
    "\n",
    "words = line.split()\n",
    "\n",
    "print('Words: ', words)\n",
    "\n",
    "print('Counting...')\n",
    "for word in words:\n",
    "    counts[word] = counts.get(word, 0) + 1\n",
    "print('Counts: ', counts)"
   ]
  },
  {
   "cell_type": "markdown",
   "metadata": {},
   "source": [
    "# File"
   ]
  },
  {
   "cell_type": "code",
   "execution_count": null,
   "metadata": {},
   "outputs": [],
   "source": [
    "openfile = open(\"Dost.txt\", \"rt\")           # open takes a filename and a mode"
   ]
  },
  {
   "cell_type": "markdown",
   "metadata": {},
   "source": [
    "## CSV file\n",
    "\n",
    "Standard per i dati tabulari"
   ]
  },
  {
   "cell_type": "code",
   "execution_count": null,
   "metadata": {},
   "outputs": [],
   "source": [
    "import csv\n",
    "\n",
    "def parse(csvfilename):\n",
    "    with open(csvfilename, newline='') as csvfile:\n",
    "        csvreader = csv.reader(csvfile, delimiter=',')\n",
    "        for row in csvreader:\n",
    "            print(row)"
   ]
  },
  {
   "cell_type": "markdown",
   "metadata": {},
   "source": [
    "# Esercizio\n",
    "\n",
    "Processare il file della Divina commedia\n",
    "- Contare le occorrenze delle parole\n",
    "- Contare le occorrenze delle radice delle parole\n",
    "- Trovare la parola più usata\n",
    "- Trovare la radice più usata\n",
    "- "
   ]
  }
 ],
 "metadata": {
  "interpreter": {
   "hash": "8985369433b457479af44846aeaf0989574d367e9948a967101e5b1febcdd454"
  },
  "kernelspec": {
   "display_name": "Python 3.9.7 ('base')",
   "language": "python",
   "name": "python3"
  },
  "language_info": {
   "codemirror_mode": {
    "name": "ipython",
    "version": 3
   },
   "file_extension": ".py",
   "mimetype": "text/x-python",
   "name": "python",
   "nbconvert_exporter": "python",
   "pygments_lexer": "ipython3",
   "version": "3.9.7"
  },
  "orig_nbformat": 4
 },
 "nbformat": 4,
 "nbformat_minor": 2
}
