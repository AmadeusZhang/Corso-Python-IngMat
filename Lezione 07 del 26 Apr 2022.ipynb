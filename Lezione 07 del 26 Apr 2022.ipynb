{
 "cells": [
  {
   "cell_type": "markdown",
   "metadata": {},
   "source": [
    "# Set e Fronzenset"
   ]
  },
  {
   "cell_type": "markdown",
   "metadata": {},
   "source": [
    "- Set: sequenza mutabile\n",
    "- Fronzenset: sequenza immutabile"
   ]
  },
  {
   "cell_type": "code",
   "execution_count": 2,
   "metadata": {},
   "outputs": [
    {
     "data": {
      "text/plain": [
       "{1, 2, 3}"
      ]
     },
     "execution_count": 2,
     "metadata": {},
     "output_type": "execute_result"
    }
   ],
   "source": [
    "{1, 2, 3, 2, 1} # sequenza ove gli elementi devono essere univoci"
   ]
  },
  {
   "cell_type": "code",
   "execution_count": 3,
   "metadata": {},
   "outputs": [
    {
     "data": {
      "text/plain": [
       "{'a', 'b', 'c', 'd', 'r'}"
      ]
     },
     "execution_count": 3,
     "metadata": {},
     "output_type": "execute_result"
    }
   ],
   "source": [
    "set('abracadabra')"
   ]
  },
  {
   "cell_type": "code",
   "execution_count": 4,
   "metadata": {},
   "outputs": [
    {
     "data": {
      "text/plain": [
       "frozenset({'a', 'b', 'c', 'd', 'r'})"
      ]
     },
     "execution_count": 4,
     "metadata": {},
     "output_type": "execute_result"
    }
   ],
   "source": [
    "frozenset('abracadabra')"
   ]
  },
  {
   "cell_type": "code",
   "execution_count": 5,
   "metadata": {},
   "outputs": [],
   "source": [
    "# Tra tutte i metodi di set solo copy() è supportato da fronzenset, dato che gli altri metodi mutano il set"
   ]
  },
  {
   "cell_type": "markdown",
   "metadata": {},
   "source": [
    "# Grafici\n",
    "\n",
    "```python\n",
    "pip install pygal\n",
    "```"
   ]
  },
  {
   "cell_type": "code",
   "execution_count": null,
   "metadata": {},
   "outputs": [],
   "source": [
    "import pygal\n",
    "\n",
    "def draw_xy(title, xvals, yvals):\n",
    "    \"\"\"\n",
    "    Draw xy plot with given x and y values.\n",
    "    \"\"\"\n",
    "    coords = [(xval, yval) for xval, yval in zip(xvals, yvals)]\n",
    "    xyplot = pygal.XY(height=400)\n",
    "    xyplot.title = title\n",
    "    xyplot.add(\"Data\", coords)\n",
    "    xyplot.render_in_browser()\n",
    "\n",
    "xvals = [0, 1, 3, 5, 6, 7, 9, 11, 12, 15]\n",
    "yvals = [4, 3, 1, 2, 2, 4, 5, 2, 1, 4]\n",
    "\n",
    "draw_xy(\"My XY Plot\", xvals, yvals)\n"
   ]
  },
  {
   "cell_type": "markdown",
   "metadata": {},
   "source": [
    "## matplotlib (recommended)\n",
    "\n",
    "```python\n",
    "import matplotlib.pyplot as plt\n",
    "```\n",
    "\n",
    "Raccolta di funzioni che fanno funzionare matplotlib come MATLAB"
   ]
  },
  {
   "cell_type": "code",
   "execution_count": 10,
   "metadata": {},
   "outputs": [
    {
     "data": {
      "image/png": "[encoded data removed]",
      "text/plain": [
       "<Figure size 432x288 with 1 Axes>"
      ]
     },
     "metadata": {
      "needs_background": "light"
     },
     "output_type": "display_data"
    }
   ],
   "source": [
    "import matplotlib.pyplot as plt\n",
    "plt.plot([1, 2, 3, 4])\n",
    "plt.ylabel('some numbers')\n",
    "plt.show()"
   ]
  },
  {
   "cell_type": "markdown",
   "metadata": {},
   "source": [
    "Se matplotlib fosse limitato a lavorare con gli elenchi, sarebbe abbastanza inutile per l'elaborazione numerica. \n",
    "Generalmente, si usano array numpy. \n",
    "In effetti, tutte le sequenze vengono convertite internamente in array numpy.\n",
    "\n",
    "```python\n",
    "import numpy as np\n",
    "import matplotlib.pyplot as plt\n",
    "```"
   ]
  },
  {
   "cell_type": "markdown",
   "metadata": {},
   "source": [
    "# Pandas\n",
    "\n",
    "La libreria Pandas viene utilizzata per analisi dei dati.\n",
    "\n",
    "```python\n",
    "from pandas import DataFrame, read_csv\n",
    "import matplotlib.pyplot as plt\n",
    "import pandas as pd\n",
    "```"
   ]
  },
  {
   "cell_type": "code",
   "execution_count": 11,
   "metadata": {},
   "outputs": [
    {
     "name": "stdout",
     "output_type": "stream",
     "text": [
      "[('Bob', 968), ('Jessica', 155), ('Mary', 77), ('John', 578), ('Mel', 973)]\n"
     ]
    }
   ],
   "source": [
    "# Il set di dati consisterà in 5 nomi di bambini e il numero di nascite registrate per quell'anno (1880).\n",
    "\n",
    "names = ['Bob','Jessica','Mary','John','Mel']\n",
    "births = [968, 155, 77, 578, 973]\n",
    "\n",
    "# Per unire questi due elenchi insieme useremo la funzione zip.\n",
    "\n",
    "BabyDataSet = list(zip(names,births))\n",
    "print(BabyDataSet)\n"
   ]
  },
  {
   "cell_type": "markdown",
   "metadata": {},
   "source": [
    "---"
   ]
  },
  {
   "cell_type": "code",
   "execution_count": 12,
   "metadata": {},
   "outputs": [
    {
     "name": "stdout",
     "output_type": "stream",
     "text": [
      "['Mary', 'Jessica', 'Jessica', 'Bob', 'Jessica', 'Jessica', 'Jessica', 'Mary', 'Mary', 'Mary']\n",
      "[968, 155, 77, 578, 973, 124, 155, 403, 199, 191]\n",
      "     Names  Births\n",
      "0     Mary     968\n",
      "1  Jessica     155\n",
      "2  Jessica      77\n",
      "3      Bob     578\n",
      "4  Jessica     973\n",
      "5  Jessica     124\n",
      "6  Jessica     155\n",
      "7     Mary     403\n",
      "8     Mary     199\n",
      "9     Mary     191\n",
      "Mary\n",
      "Jessica\n",
      "Bob\n",
      "John\n",
      "Mel\n",
      "count     1000\n",
      "unique       5\n",
      "top        Bob\n",
      "freq       206\n",
      "Name: Names, dtype: object\n",
      "         Births\n",
      "Names          \n",
      "Bob      106817\n",
      "Jessica   97826\n",
      "John      90705\n",
      "Mary      99438\n",
      "Mel      102319\n",
      "         Births\n",
      "Names          \n",
      "Bob      106817\n",
      "Mel      102319\n",
      "Mary      99438\n",
      "Jessica   97826\n",
      "John      90705\n",
      "       Births\n",
      "Names        \n",
      "Bob    106817\n"
     ]
    },
    {
     "data": {
      "text/plain": [
       "<AxesSubplot:xlabel='Names'>"
      ]
     },
     "execution_count": 12,
     "metadata": {},
     "output_type": "execute_result"
    },
    {
     "data": {
      "image/png": "[encoded data removed]",
      "text/plain": [
       "<Figure size 432x288 with 1 Axes>"
      ]
     },
     "metadata": {
      "needs_background": "light"
     },
     "output_type": "display_data"
    }
   ],
   "source": [
    "import pandas as pd\n",
    "from numpy import random\n",
    "\n",
    "names = ['Bob','Jessica','Mary','John','Mel']\n",
    "\n",
    "random.seed(500)\n",
    "random_names = [names[random.randint(low=0,high=len(names))] for i in range(1000)]\n",
    "\n",
    "print(random_names[:10])\n",
    "\n",
    "births = [random.randint(low=0,high=1000) for i in range(1000)]\n",
    "print(births[:10])\n",
    "\n",
    "BabyDataSet = list(zip(random_names,births))\n",
    "df = pd.DataFrame(data = BabyDataSet, columns=['Names', 'Births'])\n",
    "print(df[:10])\n",
    "\n",
    "df['Names'].unique()\n",
    "\n",
    "for x in df['Names'].unique():\n",
    "    print(x)\n",
    "\n",
    "print(df['Names'].describe())\n",
    "\n",
    "name = df.groupby('Names')\n",
    "\n",
    "df = name.sum()\n",
    "print(df)\n",
    "\n",
    "Sorted = df.sort_values(['Births'], ascending=False)\n",
    "print(Sorted)\n",
    "print(Sorted.head(1))\n",
    "\n",
    "df['Births'].plot.bar()\n"
   ]
  },
  {
   "cell_type": "markdown",
   "metadata": {},
   "source": [
    "---"
   ]
  },
  {
   "cell_type": "code",
   "execution_count": 13,
   "metadata": {},
   "outputs": [
    {
     "name": "stdout",
     "output_type": "stream",
     "text": [
      "    Numbers\n",
      "0         0\n",
      "1         1\n",
      "2         2\n",
      "3         3\n",
      "4         4\n",
      "5         5\n",
      "6         6\n",
      "7         7\n",
      "8         8\n",
      "9         9\n",
      "10       10\n"
     ]
    }
   ],
   "source": [
    "import pandas as pd\n",
    "\n",
    "d = [0, 1, 2, 3, 4, 5, 6, 7, 8, 9, 10]\n",
    "\n",
    "df = pd.DataFrame(data=d, columns=['Numbers'])\n",
    "\n",
    "print(df)"
   ]
  },
  {
   "cell_type": "code",
   "execution_count": 14,
   "metadata": {},
   "outputs": [
    {
     "name": "stdout",
     "output_type": "stream",
     "text": [
      "    Numbers\n",
      "0         1\n",
      "1         2\n",
      "2         3\n",
      "3         4\n",
      "4         5\n",
      "5         6\n",
      "6         7\n",
      "7         8\n",
      "8         9\n",
      "9        10\n",
      "10       11\n"
     ]
    }
   ],
   "source": [
    "df['Numbers'] = df['Numbers'] + 1\n",
    "print(df)"
   ]
  },
  {
   "cell_type": "markdown",
   "metadata": {},
   "source": [
    "---"
   ]
  },
  {
   "cell_type": "code",
   "execution_count": 15,
   "metadata": {},
   "outputs": [
    {
     "name": "stdout",
     "output_type": "stream",
     "text": [
      "   one  two\n",
      "a    1    2\n",
      "b    1    2\n",
      "Index(['a', 'b'], dtype='object')\n"
     ]
    }
   ],
   "source": [
    "import pandas as pd\n",
    "\n",
    "d = {'one':[1,1],'two':[2,2]}\n",
    "i = ['a','b']\n",
    "\n",
    "# Create dataframe\n",
    "df = pd.DataFrame(data = d, index = i)\n",
    "print(df)\n",
    "\n",
    "print(df.index)"
   ]
  },
  {
   "cell_type": "code",
   "execution_count": 16,
   "metadata": {},
   "outputs": [
    {
     "name": "stdout",
     "output_type": "stream",
     "text": [
      "a  one    1\n",
      "   two    2\n",
      "b  one    1\n",
      "   two    2\n",
      "dtype: int64\n",
      "MultiIndex([('a', 'one'),\n",
      "            ('a', 'two'),\n",
      "            ('b', 'one'),\n",
      "            ('b', 'two')],\n",
      "           )\n"
     ]
    }
   ],
   "source": [
    "stack = df.stack()\n",
    "print(stack)\n",
    "print(stack.index) # Doppia indicizzazione"
   ]
  },
  {
   "cell_type": "code",
   "execution_count": 18,
   "metadata": {},
   "outputs": [
    {
     "name": "stdout",
     "output_type": "stream",
     "text": [
      "     a  b\n",
      "one  1  1\n",
      "two  2  2\n"
     ]
    }
   ],
   "source": [
    "transpose = df.T\n",
    "print(transpose)"
   ]
  },
  {
   "cell_type": "markdown",
   "metadata": {},
   "source": [
    "---"
   ]
  },
  {
   "cell_type": "code",
   "execution_count": 20,
   "metadata": {},
   "outputs": [
    {
     "name": "stdout",
     "output_type": "stream",
     "text": [
      "   one  two letter\n",
      "0    1    2      a\n",
      "1    1    2      a\n",
      "2    1    2      b\n",
      "3    1    2      b\n",
      "4    1    2      c\n"
     ]
    }
   ],
   "source": [
    "import pandas as pd\n",
    "d = {'one':[1,1,1,1,1],\n",
    "     'two':[2,2,2,2,2],\n",
    "     'letter':['a','a', 'b', 'b', 'c']}\n",
    "df = pd.DataFrame(d)\n",
    "print(df)"
   ]
  },
  {
   "cell_type": "code",
   "execution_count": 22,
   "metadata": {},
   "outputs": [
    {
     "name": "stdout",
     "output_type": "stream",
     "text": [
      "        one  two\n",
      "letter          \n",
      "a         2    4\n",
      "b         2    4\n",
      "c         1    2\n"
     ]
    }
   ],
   "source": [
    "one = df.groupby('letter')\n",
    "print(one.sum())"
   ]
  },
  {
   "cell_type": "code",
   "execution_count": 23,
   "metadata": {},
   "outputs": [
    {
     "name": "stdout",
     "output_type": "stream",
     "text": [
      "            two\n",
      "letter one     \n",
      "a      1      4\n",
      "b      1      4\n",
      "c      1      2\n",
      "MultiIndex([('a', 1),\n",
      "            ('b', 1),\n",
      "            ('c', 1)],\n",
      "           names=['letter', 'one'])\n"
     ]
    }
   ],
   "source": [
    "letterone = df.groupby(['letter','one']).sum()\n",
    "print(letterone)\n",
    "print(letterone.index)"
   ]
  },
  {
   "cell_type": "code",
   "execution_count": 24,
   "metadata": {},
   "outputs": [
    {
     "name": "stdout",
     "output_type": "stream",
     "text": [
      "  letter  one  two\n",
      "0      a    1    4\n",
      "1      b    1    4\n",
      "2      c    1    2\n"
     ]
    }
   ],
   "source": [
    "letterone = df.groupby(['letter','one'], as_index=False).sum()\n",
    "print(letterone)"
   ]
  },
  {
   "cell_type": "markdown",
   "metadata": {},
   "source": [
    "# Animazioni\n",
    "\n",
    "Esistono due modi per creare animazioni utilizzando  Matplotlib: \n",
    "- Utilizzo della funzione pause() \n",
    "- Utilizzo della funzione FuncAnimation() "
   ]
  },
  {
   "cell_type": "markdown",
   "metadata": {},
   "source": [
    "## Pause()"
   ]
  },
  {
   "cell_type": "code",
   "execution_count": null,
   "metadata": {},
   "outputs": [],
   "source": [
    "from matplotlib import pyplot as plt\n",
    "  \n",
    "x = []\n",
    "y = []\n",
    "  \n",
    "for i in range(100):\n",
    "    x.append(i)\n",
    "    y.append(i)\n",
    "  \n",
    "    plt.xlim(0, 100)\n",
    "    plt.ylim(0, 100)\n",
    "      \n",
    "    \n",
    "    plt.plot(x, y, color = 'green')\n",
    "    plt.pause(0.01)\n",
    "  \n",
    "plt.show() # visualizzazione non è ottimale su Jupyter Notebook"
   ]
  },
  {
   "cell_type": "markdown",
   "metadata": {},
   "source": [
    "## FuncAnimation()"
   ]
  },
  {
   "cell_type": "code",
   "execution_count": null,
   "metadata": {},
   "outputs": [],
   "source": [
    "from matplotlib import pyplot as plt\n",
    "from matplotlib.animation import FuncAnimation\n",
    "import numpy as np\n",
    "  \n",
    "x = []\n",
    "y = []\n",
    "figure, ax = plt.subplots()\n",
    "  \n",
    "# Setting limits for x and y axis\n",
    "ax.set_xlim(0, 100)\n",
    "ax.set_ylim(0, 12)\n",
    "  \n",
    "# Since plotting a single graph\n",
    "line,  = ax.plot(0, 0) \n",
    "  \n",
    "def animation_function(i):\n",
    "    x.append(i * 15)\n",
    "    y.append(i)  \n",
    "    line.set_xdata(x)\n",
    "    line.set_ydata(y)\n",
    "    return line,\n",
    "  \n",
    "animation = FuncAnimation(figure, func = animation_function, frames = np.arange(0, 10, 0.1), interval = 10)\n",
    "plt.show()\n"
   ]
  }
 ],
 "metadata": {
  "interpreter": {
   "hash": "8985369433b457479af44846aeaf0989574d367e9948a967101e5b1febcdd454"
  },
  "kernelspec": {
   "display_name": "Python 3.9.7 ('base')",
   "language": "python",
   "name": "python3"
  },
  "language_info": {
   "codemirror_mode": {
    "name": "ipython",
    "version": 3
   },
   "file_extension": ".py",
   "mimetype": "text/x-python",
   "name": "python",
   "nbconvert_exporter": "python",
   "pygments_lexer": "ipython3",
   "version": "3.9.7"
  },
  "orig_nbformat": 4
 },
 "nbformat": 4,
 "nbformat_minor": 2
}
